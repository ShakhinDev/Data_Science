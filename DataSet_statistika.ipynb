{
  "nbformat": 4,
  "nbformat_minor": 0,
  "metadata": {
    "colab": {
      "provenance": []
    },
    "kernelspec": {
      "name": "python3",
      "display_name": "Python 3"
    },
    "language_info": {
      "name": "python"
    }
  },
  "cells": [
    {
      "cell_type": "code",
      "execution_count": null,
      "metadata": {
        "id": "OieCjr98_VKm"
      },
      "outputs": [],
      "source": [
        "import pandas as pd\n",
        "import numpy as np\n"
      ]
    },
    {
      "cell_type": "code",
      "source": [
        "# Keyingi mashqlar uchun ma'lumotlarni Githubdan yuklab olamiz\n",
        "df = pd.read_csv('https://raw.githubusercontent.com/anvarnarz/praktikum_datasets/main/uzbekistan.csv', index_col=0)\n",
        "df.columns = ['maydoni','aholisi']\n",
        "df"
      ],
      "metadata": {
        "colab": {
          "base_uri": "https://localhost:8080/",
          "height": 488
        },
        "id": "W_36O4DB_ibb",
        "outputId": "692a3d8a-437c-453b-a28e-0ed15027bde8"
      },
      "execution_count": null,
      "outputs": [
        {
          "output_type": "execute_result",
          "data": {
            "text/plain": [
              "                                maydoni    aholisi\n",
              "Boʻlinishi                                        \n",
              "Andijon viloyati                 4200.0  1899000.0\n",
              "Buxoro viloyati                 39400.0  1384700.0\n",
              "Fargʻona viloyati                6800.0  2597000.0\n",
              "Jizzax viloyati                 20500.0   910500.0\n",
              "Xorazm viloyati                  6300.0  1200000.0\n",
              "Namangan viloyati                7900.0  1862000.0\n",
              "Navoiy viloyati                110800.0   767500.0\n",
              "Qashqadaryo viloyati            28400.0  2029000.0\n",
              "Qoraqalpogʻiston Respublikasi  160000.0  1200000.0\n",
              "Samarqand viloyati              16400.0  2322000.0\n",
              "Sirdaryo viloyati                5100.0   648100.0\n",
              "Surxondaryo viloyati            20800.0  1676000.0\n",
              "Toshkent viloyati               15300.0  4450000.0"
            ],
            "text/html": [
              "\n",
              "  <div id=\"df-cc919d2d-2386-46bc-acae-7352c8faaf5f\">\n",
              "    <div class=\"colab-df-container\">\n",
              "      <div>\n",
              "<style scoped>\n",
              "    .dataframe tbody tr th:only-of-type {\n",
              "        vertical-align: middle;\n",
              "    }\n",
              "\n",
              "    .dataframe tbody tr th {\n",
              "        vertical-align: top;\n",
              "    }\n",
              "\n",
              "    .dataframe thead th {\n",
              "        text-align: right;\n",
              "    }\n",
              "</style>\n",
              "<table border=\"1\" class=\"dataframe\">\n",
              "  <thead>\n",
              "    <tr style=\"text-align: right;\">\n",
              "      <th></th>\n",
              "      <th>maydoni</th>\n",
              "      <th>aholisi</th>\n",
              "    </tr>\n",
              "    <tr>\n",
              "      <th>Boʻlinishi</th>\n",
              "      <th></th>\n",
              "      <th></th>\n",
              "    </tr>\n",
              "  </thead>\n",
              "  <tbody>\n",
              "    <tr>\n",
              "      <th>Andijon viloyati</th>\n",
              "      <td>4200.0</td>\n",
              "      <td>1899000.0</td>\n",
              "    </tr>\n",
              "    <tr>\n",
              "      <th>Buxoro viloyati</th>\n",
              "      <td>39400.0</td>\n",
              "      <td>1384700.0</td>\n",
              "    </tr>\n",
              "    <tr>\n",
              "      <th>Fargʻona viloyati</th>\n",
              "      <td>6800.0</td>\n",
              "      <td>2597000.0</td>\n",
              "    </tr>\n",
              "    <tr>\n",
              "      <th>Jizzax viloyati</th>\n",
              "      <td>20500.0</td>\n",
              "      <td>910500.0</td>\n",
              "    </tr>\n",
              "    <tr>\n",
              "      <th>Xorazm viloyati</th>\n",
              "      <td>6300.0</td>\n",
              "      <td>1200000.0</td>\n",
              "    </tr>\n",
              "    <tr>\n",
              "      <th>Namangan viloyati</th>\n",
              "      <td>7900.0</td>\n",
              "      <td>1862000.0</td>\n",
              "    </tr>\n",
              "    <tr>\n",
              "      <th>Navoiy viloyati</th>\n",
              "      <td>110800.0</td>\n",
              "      <td>767500.0</td>\n",
              "    </tr>\n",
              "    <tr>\n",
              "      <th>Qashqadaryo viloyati</th>\n",
              "      <td>28400.0</td>\n",
              "      <td>2029000.0</td>\n",
              "    </tr>\n",
              "    <tr>\n",
              "      <th>Qoraqalpogʻiston Respublikasi</th>\n",
              "      <td>160000.0</td>\n",
              "      <td>1200000.0</td>\n",
              "    </tr>\n",
              "    <tr>\n",
              "      <th>Samarqand viloyati</th>\n",
              "      <td>16400.0</td>\n",
              "      <td>2322000.0</td>\n",
              "    </tr>\n",
              "    <tr>\n",
              "      <th>Sirdaryo viloyati</th>\n",
              "      <td>5100.0</td>\n",
              "      <td>648100.0</td>\n",
              "    </tr>\n",
              "    <tr>\n",
              "      <th>Surxondaryo viloyati</th>\n",
              "      <td>20800.0</td>\n",
              "      <td>1676000.0</td>\n",
              "    </tr>\n",
              "    <tr>\n",
              "      <th>Toshkent viloyati</th>\n",
              "      <td>15300.0</td>\n",
              "      <td>4450000.0</td>\n",
              "    </tr>\n",
              "  </tbody>\n",
              "</table>\n",
              "</div>\n",
              "      <button class=\"colab-df-convert\" onclick=\"convertToInteractive('df-cc919d2d-2386-46bc-acae-7352c8faaf5f')\"\n",
              "              title=\"Convert this dataframe to an interactive table.\"\n",
              "              style=\"display:none;\">\n",
              "        \n",
              "  <svg xmlns=\"http://www.w3.org/2000/svg\" height=\"24px\"viewBox=\"0 0 24 24\"\n",
              "       width=\"24px\">\n",
              "    <path d=\"M0 0h24v24H0V0z\" fill=\"none\"/>\n",
              "    <path d=\"M18.56 5.44l.94 2.06.94-2.06 2.06-.94-2.06-.94-.94-2.06-.94 2.06-2.06.94zm-11 1L8.5 8.5l.94-2.06 2.06-.94-2.06-.94L8.5 2.5l-.94 2.06-2.06.94zm10 10l.94 2.06.94-2.06 2.06-.94-2.06-.94-.94-2.06-.94 2.06-2.06.94z\"/><path d=\"M17.41 7.96l-1.37-1.37c-.4-.4-.92-.59-1.43-.59-.52 0-1.04.2-1.43.59L10.3 9.45l-7.72 7.72c-.78.78-.78 2.05 0 2.83L4 21.41c.39.39.9.59 1.41.59.51 0 1.02-.2 1.41-.59l7.78-7.78 2.81-2.81c.8-.78.8-2.07 0-2.86zM5.41 20L4 18.59l7.72-7.72 1.47 1.35L5.41 20z\"/>\n",
              "  </svg>\n",
              "      </button>\n",
              "      \n",
              "  <style>\n",
              "    .colab-df-container {\n",
              "      display:flex;\n",
              "      flex-wrap:wrap;\n",
              "      gap: 12px;\n",
              "    }\n",
              "\n",
              "    .colab-df-convert {\n",
              "      background-color: #E8F0FE;\n",
              "      border: none;\n",
              "      border-radius: 50%;\n",
              "      cursor: pointer;\n",
              "      display: none;\n",
              "      fill: #1967D2;\n",
              "      height: 32px;\n",
              "      padding: 0 0 0 0;\n",
              "      width: 32px;\n",
              "    }\n",
              "\n",
              "    .colab-df-convert:hover {\n",
              "      background-color: #E2EBFA;\n",
              "      box-shadow: 0px 1px 2px rgba(60, 64, 67, 0.3), 0px 1px 3px 1px rgba(60, 64, 67, 0.15);\n",
              "      fill: #174EA6;\n",
              "    }\n",
              "\n",
              "    [theme=dark] .colab-df-convert {\n",
              "      background-color: #3B4455;\n",
              "      fill: #D2E3FC;\n",
              "    }\n",
              "\n",
              "    [theme=dark] .colab-df-convert:hover {\n",
              "      background-color: #434B5C;\n",
              "      box-shadow: 0px 1px 3px 1px rgba(0, 0, 0, 0.15);\n",
              "      filter: drop-shadow(0px 1px 2px rgba(0, 0, 0, 0.3));\n",
              "      fill: #FFFFFF;\n",
              "    }\n",
              "  </style>\n",
              "\n",
              "      <script>\n",
              "        const buttonEl =\n",
              "          document.querySelector('#df-cc919d2d-2386-46bc-acae-7352c8faaf5f button.colab-df-convert');\n",
              "        buttonEl.style.display =\n",
              "          google.colab.kernel.accessAllowed ? 'block' : 'none';\n",
              "\n",
              "        async function convertToInteractive(key) {\n",
              "          const element = document.querySelector('#df-cc919d2d-2386-46bc-acae-7352c8faaf5f');\n",
              "          const dataTable =\n",
              "            await google.colab.kernel.invokeFunction('convertToInteractive',\n",
              "                                                     [key], {});\n",
              "          if (!dataTable) return;\n",
              "\n",
              "          const docLinkHtml = 'Like what you see? Visit the ' +\n",
              "            '<a target=\"_blank\" href=https://colab.research.google.com/notebooks/data_table.ipynb>data table notebook</a>'\n",
              "            + ' to learn more about interactive tables.';\n",
              "          element.innerHTML = '';\n",
              "          dataTable['output_type'] = 'display_data';\n",
              "          await google.colab.output.renderOutput(dataTable, element);\n",
              "          const docLink = document.createElement('div');\n",
              "          docLink.innerHTML = docLinkHtml;\n",
              "          element.appendChild(docLink);\n",
              "        }\n",
              "      </script>\n",
              "    </div>\n",
              "  </div>\n",
              "  "
            ]
          },
          "metadata": {},
          "execution_count": 2
        }
      ]
    },
    {
      "cell_type": "code",
      "source": [
        "df.sum() # aholi va maydonni summasini chiqaradi "
      ],
      "metadata": {
        "colab": {
          "base_uri": "https://localhost:8080/"
        },
        "id": "ftdbotZL_nSO",
        "outputId": "947869bb-8107-49d2-bea6-7fe4e63d937c"
      },
      "execution_count": null,
      "outputs": [
        {
          "output_type": "execute_result",
          "data": {
            "text/plain": [
              "maydoni      441900.0\n",
              "aholisi    22945800.0\n",
              "dtype: float64"
            ]
          },
          "metadata": {},
          "execution_count": 3
        }
      ]
    },
    {
      "cell_type": "code",
      "source": [
        "df2 = pd.read_csv(\"https://raw.githubusercontent.com/anvarnarz/praktikum_datasets/main/gm_sales.csv\", index_col=0)\n",
        "df2.head()"
      ],
      "metadata": {
        "colab": {
          "base_uri": "https://localhost:8080/",
          "height": 206
        },
        "id": "gCR_G4cd_23X",
        "outputId": "6bc13658-9f29-45d3-ccee-f121840d14ae"
      },
      "execution_count": null,
      "outputs": [
        {
          "output_type": "execute_result",
          "data": {
            "text/plain": [
              "         2020   2021\n",
              "Labo     4521   7542\n",
              "Damas   30889  33682\n",
              "Spark   16370   6485\n",
              "Nexia   41663  14442\n",
              "Cobalt  44901  36317"
            ],
            "text/html": [
              "\n",
              "  <div id=\"df-41affd2b-9ce8-471d-8ce9-6da6501f0a1d\">\n",
              "    <div class=\"colab-df-container\">\n",
              "      <div>\n",
              "<style scoped>\n",
              "    .dataframe tbody tr th:only-of-type {\n",
              "        vertical-align: middle;\n",
              "    }\n",
              "\n",
              "    .dataframe tbody tr th {\n",
              "        vertical-align: top;\n",
              "    }\n",
              "\n",
              "    .dataframe thead th {\n",
              "        text-align: right;\n",
              "    }\n",
              "</style>\n",
              "<table border=\"1\" class=\"dataframe\">\n",
              "  <thead>\n",
              "    <tr style=\"text-align: right;\">\n",
              "      <th></th>\n",
              "      <th>2020</th>\n",
              "      <th>2021</th>\n",
              "    </tr>\n",
              "  </thead>\n",
              "  <tbody>\n",
              "    <tr>\n",
              "      <th>Labo</th>\n",
              "      <td>4521</td>\n",
              "      <td>7542</td>\n",
              "    </tr>\n",
              "    <tr>\n",
              "      <th>Damas</th>\n",
              "      <td>30889</td>\n",
              "      <td>33682</td>\n",
              "    </tr>\n",
              "    <tr>\n",
              "      <th>Spark</th>\n",
              "      <td>16370</td>\n",
              "      <td>6485</td>\n",
              "    </tr>\n",
              "    <tr>\n",
              "      <th>Nexia</th>\n",
              "      <td>41663</td>\n",
              "      <td>14442</td>\n",
              "    </tr>\n",
              "    <tr>\n",
              "      <th>Cobalt</th>\n",
              "      <td>44901</td>\n",
              "      <td>36317</td>\n",
              "    </tr>\n",
              "  </tbody>\n",
              "</table>\n",
              "</div>\n",
              "      <button class=\"colab-df-convert\" onclick=\"convertToInteractive('df-41affd2b-9ce8-471d-8ce9-6da6501f0a1d')\"\n",
              "              title=\"Convert this dataframe to an interactive table.\"\n",
              "              style=\"display:none;\">\n",
              "        \n",
              "  <svg xmlns=\"http://www.w3.org/2000/svg\" height=\"24px\"viewBox=\"0 0 24 24\"\n",
              "       width=\"24px\">\n",
              "    <path d=\"M0 0h24v24H0V0z\" fill=\"none\"/>\n",
              "    <path d=\"M18.56 5.44l.94 2.06.94-2.06 2.06-.94-2.06-.94-.94-2.06-.94 2.06-2.06.94zm-11 1L8.5 8.5l.94-2.06 2.06-.94-2.06-.94L8.5 2.5l-.94 2.06-2.06.94zm10 10l.94 2.06.94-2.06 2.06-.94-2.06-.94-.94-2.06-.94 2.06-2.06.94z\"/><path d=\"M17.41 7.96l-1.37-1.37c-.4-.4-.92-.59-1.43-.59-.52 0-1.04.2-1.43.59L10.3 9.45l-7.72 7.72c-.78.78-.78 2.05 0 2.83L4 21.41c.39.39.9.59 1.41.59.51 0 1.02-.2 1.41-.59l7.78-7.78 2.81-2.81c.8-.78.8-2.07 0-2.86zM5.41 20L4 18.59l7.72-7.72 1.47 1.35L5.41 20z\"/>\n",
              "  </svg>\n",
              "      </button>\n",
              "      \n",
              "  <style>\n",
              "    .colab-df-container {\n",
              "      display:flex;\n",
              "      flex-wrap:wrap;\n",
              "      gap: 12px;\n",
              "    }\n",
              "\n",
              "    .colab-df-convert {\n",
              "      background-color: #E8F0FE;\n",
              "      border: none;\n",
              "      border-radius: 50%;\n",
              "      cursor: pointer;\n",
              "      display: none;\n",
              "      fill: #1967D2;\n",
              "      height: 32px;\n",
              "      padding: 0 0 0 0;\n",
              "      width: 32px;\n",
              "    }\n",
              "\n",
              "    .colab-df-convert:hover {\n",
              "      background-color: #E2EBFA;\n",
              "      box-shadow: 0px 1px 2px rgba(60, 64, 67, 0.3), 0px 1px 3px 1px rgba(60, 64, 67, 0.15);\n",
              "      fill: #174EA6;\n",
              "    }\n",
              "\n",
              "    [theme=dark] .colab-df-convert {\n",
              "      background-color: #3B4455;\n",
              "      fill: #D2E3FC;\n",
              "    }\n",
              "\n",
              "    [theme=dark] .colab-df-convert:hover {\n",
              "      background-color: #434B5C;\n",
              "      box-shadow: 0px 1px 3px 1px rgba(0, 0, 0, 0.15);\n",
              "      filter: drop-shadow(0px 1px 2px rgba(0, 0, 0, 0.3));\n",
              "      fill: #FFFFFF;\n",
              "    }\n",
              "  </style>\n",
              "\n",
              "      <script>\n",
              "        const buttonEl =\n",
              "          document.querySelector('#df-41affd2b-9ce8-471d-8ce9-6da6501f0a1d button.colab-df-convert');\n",
              "        buttonEl.style.display =\n",
              "          google.colab.kernel.accessAllowed ? 'block' : 'none';\n",
              "\n",
              "        async function convertToInteractive(key) {\n",
              "          const element = document.querySelector('#df-41affd2b-9ce8-471d-8ce9-6da6501f0a1d');\n",
              "          const dataTable =\n",
              "            await google.colab.kernel.invokeFunction('convertToInteractive',\n",
              "                                                     [key], {});\n",
              "          if (!dataTable) return;\n",
              "\n",
              "          const docLinkHtml = 'Like what you see? Visit the ' +\n",
              "            '<a target=\"_blank\" href=https://colab.research.google.com/notebooks/data_table.ipynb>data table notebook</a>'\n",
              "            + ' to learn more about interactive tables.';\n",
              "          element.innerHTML = '';\n",
              "          dataTable['output_type'] = 'display_data';\n",
              "          await google.colab.output.renderOutput(dataTable, element);\n",
              "          const docLink = document.createElement('div');\n",
              "          docLink.innerHTML = docLinkHtml;\n",
              "          element.appendChild(docLink);\n",
              "        }\n",
              "      </script>\n",
              "    </div>\n",
              "  </div>\n",
              "  "
            ]
          },
          "metadata": {},
          "execution_count": 4
        }
      ]
    },
    {
      "cell_type": "code",
      "source": [
        "df2.sum() # qatorar boyicha summ qiladi"
      ],
      "metadata": {
        "colab": {
          "base_uri": "https://localhost:8080/"
        },
        "id": "pmfgDNckAdIF",
        "outputId": "515ab272-e0f2-4154-ed34-14ce1fc2269c"
      },
      "execution_count": null,
      "outputs": [
        {
          "output_type": "execute_result",
          "data": {
            "text/plain": [
              "2020    168712\n",
              "2021    124734\n",
              "dtype: int64"
            ]
          },
          "metadata": {},
          "execution_count": 5
        }
      ]
    },
    {
      "cell_type": "code",
      "source": [
        "df2.sum(axis=\"columns\") # ustunlar boyicha yani 2020 va 2021 da umumiy moshinalar soni coulmns degani ustunlar"
      ],
      "metadata": {
        "colab": {
          "base_uri": "https://localhost:8080/"
        },
        "id": "kLdKYUpwAjKe",
        "outputId": "c3555ca8-c16b-448f-edf4-8b4e5e652aa0"
      },
      "execution_count": null,
      "outputs": [
        {
          "output_type": "execute_result",
          "data": {
            "text/plain": [
              "Labo      12063\n",
              "Damas     64571\n",
              "Spark     22855\n",
              "Nexia     56105\n",
              "Cobalt    81218\n",
              "Gentra    56634\n",
              "dtype: int64"
            ]
          },
          "metadata": {},
          "execution_count": 8
        }
      ]
    },
    {
      "cell_type": "code",
      "source": [
        "df2.mean(axis=1) # 2 yil uchun o'rtacha qiymatni xisoblab beradi"
      ],
      "metadata": {
        "colab": {
          "base_uri": "https://localhost:8080/"
        },
        "id": "uM4gXfgsAsWS",
        "outputId": "a6937549-0933-4eb4-f2c2-202c3822ed34"
      },
      "execution_count": null,
      "outputs": [
        {
          "output_type": "execute_result",
          "data": {
            "text/plain": [
              "Labo       6031.5\n",
              "Damas     32285.5\n",
              "Spark     11427.5\n",
              "Nexia     28052.5\n",
              "Cobalt    40609.0\n",
              "Gentra    28317.0\n",
              "dtype: float64"
            ]
          },
          "metadata": {},
          "execution_count": 10
        }
      ]
    },
    {
      "cell_type": "code",
      "source": [
        "df"
      ],
      "metadata": {
        "colab": {
          "base_uri": "https://localhost:8080/",
          "height": 488
        },
        "id": "mNJbIObvBNi4",
        "outputId": "37a9a777-7062-4965-f5b0-48ba9d0ede6d"
      },
      "execution_count": null,
      "outputs": [
        {
          "output_type": "execute_result",
          "data": {
            "text/plain": [
              "                                maydoni    aholisi\n",
              "Boʻlinishi                                        \n",
              "Andijon viloyati                 4200.0  1899000.0\n",
              "Buxoro viloyati                 39400.0  1384700.0\n",
              "Fargʻona viloyati                6800.0  2597000.0\n",
              "Jizzax viloyati                 20500.0   910500.0\n",
              "Xorazm viloyati                  6300.0  1200000.0\n",
              "Namangan viloyati                7900.0  1862000.0\n",
              "Navoiy viloyati                110800.0   767500.0\n",
              "Qashqadaryo viloyati            28400.0  2029000.0\n",
              "Qoraqalpogʻiston Respublikasi  160000.0  1200000.0\n",
              "Samarqand viloyati              16400.0  2322000.0\n",
              "Sirdaryo viloyati                5100.0   648100.0\n",
              "Surxondaryo viloyati            20800.0  1676000.0\n",
              "Toshkent viloyati               15300.0  4450000.0"
            ],
            "text/html": [
              "\n",
              "  <div id=\"df-fc54ca4b-a49c-4fc2-84da-fd72ea519485\">\n",
              "    <div class=\"colab-df-container\">\n",
              "      <div>\n",
              "<style scoped>\n",
              "    .dataframe tbody tr th:only-of-type {\n",
              "        vertical-align: middle;\n",
              "    }\n",
              "\n",
              "    .dataframe tbody tr th {\n",
              "        vertical-align: top;\n",
              "    }\n",
              "\n",
              "    .dataframe thead th {\n",
              "        text-align: right;\n",
              "    }\n",
              "</style>\n",
              "<table border=\"1\" class=\"dataframe\">\n",
              "  <thead>\n",
              "    <tr style=\"text-align: right;\">\n",
              "      <th></th>\n",
              "      <th>maydoni</th>\n",
              "      <th>aholisi</th>\n",
              "    </tr>\n",
              "    <tr>\n",
              "      <th>Boʻlinishi</th>\n",
              "      <th></th>\n",
              "      <th></th>\n",
              "    </tr>\n",
              "  </thead>\n",
              "  <tbody>\n",
              "    <tr>\n",
              "      <th>Andijon viloyati</th>\n",
              "      <td>4200.0</td>\n",
              "      <td>1899000.0</td>\n",
              "    </tr>\n",
              "    <tr>\n",
              "      <th>Buxoro viloyati</th>\n",
              "      <td>39400.0</td>\n",
              "      <td>1384700.0</td>\n",
              "    </tr>\n",
              "    <tr>\n",
              "      <th>Fargʻona viloyati</th>\n",
              "      <td>6800.0</td>\n",
              "      <td>2597000.0</td>\n",
              "    </tr>\n",
              "    <tr>\n",
              "      <th>Jizzax viloyati</th>\n",
              "      <td>20500.0</td>\n",
              "      <td>910500.0</td>\n",
              "    </tr>\n",
              "    <tr>\n",
              "      <th>Xorazm viloyati</th>\n",
              "      <td>6300.0</td>\n",
              "      <td>1200000.0</td>\n",
              "    </tr>\n",
              "    <tr>\n",
              "      <th>Namangan viloyati</th>\n",
              "      <td>7900.0</td>\n",
              "      <td>1862000.0</td>\n",
              "    </tr>\n",
              "    <tr>\n",
              "      <th>Navoiy viloyati</th>\n",
              "      <td>110800.0</td>\n",
              "      <td>767500.0</td>\n",
              "    </tr>\n",
              "    <tr>\n",
              "      <th>Qashqadaryo viloyati</th>\n",
              "      <td>28400.0</td>\n",
              "      <td>2029000.0</td>\n",
              "    </tr>\n",
              "    <tr>\n",
              "      <th>Qoraqalpogʻiston Respublikasi</th>\n",
              "      <td>160000.0</td>\n",
              "      <td>1200000.0</td>\n",
              "    </tr>\n",
              "    <tr>\n",
              "      <th>Samarqand viloyati</th>\n",
              "      <td>16400.0</td>\n",
              "      <td>2322000.0</td>\n",
              "    </tr>\n",
              "    <tr>\n",
              "      <th>Sirdaryo viloyati</th>\n",
              "      <td>5100.0</td>\n",
              "      <td>648100.0</td>\n",
              "    </tr>\n",
              "    <tr>\n",
              "      <th>Surxondaryo viloyati</th>\n",
              "      <td>20800.0</td>\n",
              "      <td>1676000.0</td>\n",
              "    </tr>\n",
              "    <tr>\n",
              "      <th>Toshkent viloyati</th>\n",
              "      <td>15300.0</td>\n",
              "      <td>4450000.0</td>\n",
              "    </tr>\n",
              "  </tbody>\n",
              "</table>\n",
              "</div>\n",
              "      <button class=\"colab-df-convert\" onclick=\"convertToInteractive('df-fc54ca4b-a49c-4fc2-84da-fd72ea519485')\"\n",
              "              title=\"Convert this dataframe to an interactive table.\"\n",
              "              style=\"display:none;\">\n",
              "        \n",
              "  <svg xmlns=\"http://www.w3.org/2000/svg\" height=\"24px\"viewBox=\"0 0 24 24\"\n",
              "       width=\"24px\">\n",
              "    <path d=\"M0 0h24v24H0V0z\" fill=\"none\"/>\n",
              "    <path d=\"M18.56 5.44l.94 2.06.94-2.06 2.06-.94-2.06-.94-.94-2.06-.94 2.06-2.06.94zm-11 1L8.5 8.5l.94-2.06 2.06-.94-2.06-.94L8.5 2.5l-.94 2.06-2.06.94zm10 10l.94 2.06.94-2.06 2.06-.94-2.06-.94-.94-2.06-.94 2.06-2.06.94z\"/><path d=\"M17.41 7.96l-1.37-1.37c-.4-.4-.92-.59-1.43-.59-.52 0-1.04.2-1.43.59L10.3 9.45l-7.72 7.72c-.78.78-.78 2.05 0 2.83L4 21.41c.39.39.9.59 1.41.59.51 0 1.02-.2 1.41-.59l7.78-7.78 2.81-2.81c.8-.78.8-2.07 0-2.86zM5.41 20L4 18.59l7.72-7.72 1.47 1.35L5.41 20z\"/>\n",
              "  </svg>\n",
              "      </button>\n",
              "      \n",
              "  <style>\n",
              "    .colab-df-container {\n",
              "      display:flex;\n",
              "      flex-wrap:wrap;\n",
              "      gap: 12px;\n",
              "    }\n",
              "\n",
              "    .colab-df-convert {\n",
              "      background-color: #E8F0FE;\n",
              "      border: none;\n",
              "      border-radius: 50%;\n",
              "      cursor: pointer;\n",
              "      display: none;\n",
              "      fill: #1967D2;\n",
              "      height: 32px;\n",
              "      padding: 0 0 0 0;\n",
              "      width: 32px;\n",
              "    }\n",
              "\n",
              "    .colab-df-convert:hover {\n",
              "      background-color: #E2EBFA;\n",
              "      box-shadow: 0px 1px 2px rgba(60, 64, 67, 0.3), 0px 1px 3px 1px rgba(60, 64, 67, 0.15);\n",
              "      fill: #174EA6;\n",
              "    }\n",
              "\n",
              "    [theme=dark] .colab-df-convert {\n",
              "      background-color: #3B4455;\n",
              "      fill: #D2E3FC;\n",
              "    }\n",
              "\n",
              "    [theme=dark] .colab-df-convert:hover {\n",
              "      background-color: #434B5C;\n",
              "      box-shadow: 0px 1px 3px 1px rgba(0, 0, 0, 0.15);\n",
              "      filter: drop-shadow(0px 1px 2px rgba(0, 0, 0, 0.3));\n",
              "      fill: #FFFFFF;\n",
              "    }\n",
              "  </style>\n",
              "\n",
              "      <script>\n",
              "        const buttonEl =\n",
              "          document.querySelector('#df-fc54ca4b-a49c-4fc2-84da-fd72ea519485 button.colab-df-convert');\n",
              "        buttonEl.style.display =\n",
              "          google.colab.kernel.accessAllowed ? 'block' : 'none';\n",
              "\n",
              "        async function convertToInteractive(key) {\n",
              "          const element = document.querySelector('#df-fc54ca4b-a49c-4fc2-84da-fd72ea519485');\n",
              "          const dataTable =\n",
              "            await google.colab.kernel.invokeFunction('convertToInteractive',\n",
              "                                                     [key], {});\n",
              "          if (!dataTable) return;\n",
              "\n",
              "          const docLinkHtml = 'Like what you see? Visit the ' +\n",
              "            '<a target=\"_blank\" href=https://colab.research.google.com/notebooks/data_table.ipynb>data table notebook</a>'\n",
              "            + ' to learn more about interactive tables.';\n",
              "          element.innerHTML = '';\n",
              "          dataTable['output_type'] = 'display_data';\n",
              "          await google.colab.output.renderOutput(dataTable, element);\n",
              "          const docLink = document.createElement('div');\n",
              "          docLink.innerHTML = docLinkHtml;\n",
              "          element.appendChild(docLink);\n",
              "        }\n",
              "      </script>\n",
              "    </div>\n",
              "  </div>\n",
              "  "
            ]
          },
          "metadata": {},
          "execution_count": 11
        }
      ]
    },
    {
      "cell_type": "code",
      "source": [
        "df.mean() # maydonning o'rtachasi va aholining o'rtacha qiymatini chiqaradi"
      ],
      "metadata": {
        "colab": {
          "base_uri": "https://localhost:8080/"
        },
        "id": "y1F4THNFBcM0",
        "outputId": "c22e23ee-b48e-44bb-fc44-412de3bd8a44"
      },
      "execution_count": null,
      "outputs": [
        {
          "output_type": "execute_result",
          "data": {
            "text/plain": [
              "maydoni    3.399231e+04\n",
              "aholisi    1.765062e+06\n",
              "dtype: float64"
            ]
          },
          "metadata": {},
          "execution_count": 12
        }
      ]
    },
    {
      "cell_type": "code",
      "source": [],
      "metadata": {
        "id": "IfROmKS2Beo-"
      },
      "execution_count": null,
      "outputs": []
    },
    {
      "cell_type": "markdown",
      "source": [
        "## Boshqa funksiyalar\n",
        "\n",
        "`count` - NaN bo'lmagan qiymatlar soni\n",
        "\n",
        "`median` - qiymatlar medianini hisbolash\n",
        "\n",
        "`mad` - mean absolute deviation \n",
        "\n",
        "`prod` - barcha qiymatlar ko'paytmasi\n",
        "\n",
        "`var` - variance (dispersiya)\n",
        "\n",
        "`std` - standart deviation (standart chetlanis)\n",
        "\n",
        "`skew` - skewness\n",
        "\n",
        "`kurt` - kurtosis\n",
        "\n",
        "`cumsum` - cumulative sum\n",
        "\n",
        "`cummin` va `cummax`- cumulative min and max\n",
        "\n",
        "`cumprod` - cumulative product\n",
        "\n",
        "`diff` - arifmetik farq (difference)\n",
        "\n",
        "`pct_change` - percent changes"
      ],
      "metadata": {
        "id": "ZaT9cjTxByMQ"
      }
    },
    {
      "cell_type": "code",
      "source": [
        "df.prod()"
      ],
      "metadata": {
        "colab": {
          "base_uri": "https://localhost:8080/"
        },
        "id": "4e3pu5ZRB0Ie",
        "outputId": "ec9956c7-560e-4fe8-fa44-58d4a4990e74"
      },
      "execution_count": null,
      "outputs": [
        {
          "output_type": "execute_result",
          "data": {
            "text/plain": [
              "maydoni    1.538590e+55\n",
              "aholisi    2.913892e+80\n",
              "dtype: float64"
            ]
          },
          "metadata": {},
          "execution_count": 13
        }
      ]
    },
    {
      "cell_type": "code",
      "source": [
        "df\n"
      ],
      "metadata": {
        "colab": {
          "base_uri": "https://localhost:8080/",
          "height": 488
        },
        "id": "WGgQPhZjB-J2",
        "outputId": "9d0a7e7c-f2d9-4a9e-e147-fbcc0308a7a6"
      },
      "execution_count": null,
      "outputs": [
        {
          "output_type": "execute_result",
          "data": {
            "text/plain": [
              "                                maydoni    aholisi\n",
              "Boʻlinishi                                        \n",
              "Andijon viloyati                 4200.0  1899000.0\n",
              "Buxoro viloyati                 39400.0  1384700.0\n",
              "Fargʻona viloyati                6800.0  2597000.0\n",
              "Jizzax viloyati                 20500.0   910500.0\n",
              "Xorazm viloyati                  6300.0  1200000.0\n",
              "Namangan viloyati                7900.0  1862000.0\n",
              "Navoiy viloyati                110800.0   767500.0\n",
              "Qashqadaryo viloyati            28400.0  2029000.0\n",
              "Qoraqalpogʻiston Respublikasi  160000.0  1200000.0\n",
              "Samarqand viloyati              16400.0  2322000.0\n",
              "Sirdaryo viloyati                5100.0   648100.0\n",
              "Surxondaryo viloyati            20800.0  1676000.0\n",
              "Toshkent viloyati               15300.0  4450000.0"
            ],
            "text/html": [
              "\n",
              "  <div id=\"df-3f4e3407-617f-4bd2-9a3c-6a6e58784f64\">\n",
              "    <div class=\"colab-df-container\">\n",
              "      <div>\n",
              "<style scoped>\n",
              "    .dataframe tbody tr th:only-of-type {\n",
              "        vertical-align: middle;\n",
              "    }\n",
              "\n",
              "    .dataframe tbody tr th {\n",
              "        vertical-align: top;\n",
              "    }\n",
              "\n",
              "    .dataframe thead th {\n",
              "        text-align: right;\n",
              "    }\n",
              "</style>\n",
              "<table border=\"1\" class=\"dataframe\">\n",
              "  <thead>\n",
              "    <tr style=\"text-align: right;\">\n",
              "      <th></th>\n",
              "      <th>maydoni</th>\n",
              "      <th>aholisi</th>\n",
              "    </tr>\n",
              "    <tr>\n",
              "      <th>Boʻlinishi</th>\n",
              "      <th></th>\n",
              "      <th></th>\n",
              "    </tr>\n",
              "  </thead>\n",
              "  <tbody>\n",
              "    <tr>\n",
              "      <th>Andijon viloyati</th>\n",
              "      <td>4200.0</td>\n",
              "      <td>1899000.0</td>\n",
              "    </tr>\n",
              "    <tr>\n",
              "      <th>Buxoro viloyati</th>\n",
              "      <td>39400.0</td>\n",
              "      <td>1384700.0</td>\n",
              "    </tr>\n",
              "    <tr>\n",
              "      <th>Fargʻona viloyati</th>\n",
              "      <td>6800.0</td>\n",
              "      <td>2597000.0</td>\n",
              "    </tr>\n",
              "    <tr>\n",
              "      <th>Jizzax viloyati</th>\n",
              "      <td>20500.0</td>\n",
              "      <td>910500.0</td>\n",
              "    </tr>\n",
              "    <tr>\n",
              "      <th>Xorazm viloyati</th>\n",
              "      <td>6300.0</td>\n",
              "      <td>1200000.0</td>\n",
              "    </tr>\n",
              "    <tr>\n",
              "      <th>Namangan viloyati</th>\n",
              "      <td>7900.0</td>\n",
              "      <td>1862000.0</td>\n",
              "    </tr>\n",
              "    <tr>\n",
              "      <th>Navoiy viloyati</th>\n",
              "      <td>110800.0</td>\n",
              "      <td>767500.0</td>\n",
              "    </tr>\n",
              "    <tr>\n",
              "      <th>Qashqadaryo viloyati</th>\n",
              "      <td>28400.0</td>\n",
              "      <td>2029000.0</td>\n",
              "    </tr>\n",
              "    <tr>\n",
              "      <th>Qoraqalpogʻiston Respublikasi</th>\n",
              "      <td>160000.0</td>\n",
              "      <td>1200000.0</td>\n",
              "    </tr>\n",
              "    <tr>\n",
              "      <th>Samarqand viloyati</th>\n",
              "      <td>16400.0</td>\n",
              "      <td>2322000.0</td>\n",
              "    </tr>\n",
              "    <tr>\n",
              "      <th>Sirdaryo viloyati</th>\n",
              "      <td>5100.0</td>\n",
              "      <td>648100.0</td>\n",
              "    </tr>\n",
              "    <tr>\n",
              "      <th>Surxondaryo viloyati</th>\n",
              "      <td>20800.0</td>\n",
              "      <td>1676000.0</td>\n",
              "    </tr>\n",
              "    <tr>\n",
              "      <th>Toshkent viloyati</th>\n",
              "      <td>15300.0</td>\n",
              "      <td>4450000.0</td>\n",
              "    </tr>\n",
              "  </tbody>\n",
              "</table>\n",
              "</div>\n",
              "      <button class=\"colab-df-convert\" onclick=\"convertToInteractive('df-3f4e3407-617f-4bd2-9a3c-6a6e58784f64')\"\n",
              "              title=\"Convert this dataframe to an interactive table.\"\n",
              "              style=\"display:none;\">\n",
              "        \n",
              "  <svg xmlns=\"http://www.w3.org/2000/svg\" height=\"24px\"viewBox=\"0 0 24 24\"\n",
              "       width=\"24px\">\n",
              "    <path d=\"M0 0h24v24H0V0z\" fill=\"none\"/>\n",
              "    <path d=\"M18.56 5.44l.94 2.06.94-2.06 2.06-.94-2.06-.94-.94-2.06-.94 2.06-2.06.94zm-11 1L8.5 8.5l.94-2.06 2.06-.94-2.06-.94L8.5 2.5l-.94 2.06-2.06.94zm10 10l.94 2.06.94-2.06 2.06-.94-2.06-.94-.94-2.06-.94 2.06-2.06.94z\"/><path d=\"M17.41 7.96l-1.37-1.37c-.4-.4-.92-.59-1.43-.59-.52 0-1.04.2-1.43.59L10.3 9.45l-7.72 7.72c-.78.78-.78 2.05 0 2.83L4 21.41c.39.39.9.59 1.41.59.51 0 1.02-.2 1.41-.59l7.78-7.78 2.81-2.81c.8-.78.8-2.07 0-2.86zM5.41 20L4 18.59l7.72-7.72 1.47 1.35L5.41 20z\"/>\n",
              "  </svg>\n",
              "      </button>\n",
              "      \n",
              "  <style>\n",
              "    .colab-df-container {\n",
              "      display:flex;\n",
              "      flex-wrap:wrap;\n",
              "      gap: 12px;\n",
              "    }\n",
              "\n",
              "    .colab-df-convert {\n",
              "      background-color: #E8F0FE;\n",
              "      border: none;\n",
              "      border-radius: 50%;\n",
              "      cursor: pointer;\n",
              "      display: none;\n",
              "      fill: #1967D2;\n",
              "      height: 32px;\n",
              "      padding: 0 0 0 0;\n",
              "      width: 32px;\n",
              "    }\n",
              "\n",
              "    .colab-df-convert:hover {\n",
              "      background-color: #E2EBFA;\n",
              "      box-shadow: 0px 1px 2px rgba(60, 64, 67, 0.3), 0px 1px 3px 1px rgba(60, 64, 67, 0.15);\n",
              "      fill: #174EA6;\n",
              "    }\n",
              "\n",
              "    [theme=dark] .colab-df-convert {\n",
              "      background-color: #3B4455;\n",
              "      fill: #D2E3FC;\n",
              "    }\n",
              "\n",
              "    [theme=dark] .colab-df-convert:hover {\n",
              "      background-color: #434B5C;\n",
              "      box-shadow: 0px 1px 3px 1px rgba(0, 0, 0, 0.15);\n",
              "      filter: drop-shadow(0px 1px 2px rgba(0, 0, 0, 0.3));\n",
              "      fill: #FFFFFF;\n",
              "    }\n",
              "  </style>\n",
              "\n",
              "      <script>\n",
              "        const buttonEl =\n",
              "          document.querySelector('#df-3f4e3407-617f-4bd2-9a3c-6a6e58784f64 button.colab-df-convert');\n",
              "        buttonEl.style.display =\n",
              "          google.colab.kernel.accessAllowed ? 'block' : 'none';\n",
              "\n",
              "        async function convertToInteractive(key) {\n",
              "          const element = document.querySelector('#df-3f4e3407-617f-4bd2-9a3c-6a6e58784f64');\n",
              "          const dataTable =\n",
              "            await google.colab.kernel.invokeFunction('convertToInteractive',\n",
              "                                                     [key], {});\n",
              "          if (!dataTable) return;\n",
              "\n",
              "          const docLinkHtml = 'Like what you see? Visit the ' +\n",
              "            '<a target=\"_blank\" href=https://colab.research.google.com/notebooks/data_table.ipynb>data table notebook</a>'\n",
              "            + ' to learn more about interactive tables.';\n",
              "          element.innerHTML = '';\n",
              "          dataTable['output_type'] = 'display_data';\n",
              "          await google.colab.output.renderOutput(dataTable, element);\n",
              "          const docLink = document.createElement('div');\n",
              "          docLink.innerHTML = docLinkHtml;\n",
              "          element.appendChild(docLink);\n",
              "        }\n",
              "      </script>\n",
              "    </div>\n",
              "  </div>\n",
              "  "
            ]
          },
          "metadata": {},
          "execution_count": 14
        }
      ]
    },
    {
      "cell_type": "code",
      "source": [
        "df.idxmin() # min qiymatni oladi datasetdan"
      ],
      "metadata": {
        "colab": {
          "base_uri": "https://localhost:8080/"
        },
        "id": "oFvcRDP3CGit",
        "outputId": "e2f8542c-2e42-410a-faf5-051d59fc9917"
      },
      "execution_count": null,
      "outputs": [
        {
          "output_type": "execute_result",
          "data": {
            "text/plain": [
              "maydoni     Andijon viloyati\n",
              "aholisi    Sirdaryo viloyati\n",
              "dtype: object"
            ]
          },
          "metadata": {},
          "execution_count": 16
        }
      ]
    },
    {
      "cell_type": "code",
      "source": [
        "df.idxmax() # max qiymatlarni chiqaradi"
      ],
      "metadata": {
        "colab": {
          "base_uri": "https://localhost:8080/"
        },
        "id": "hXVFauw9CJm5",
        "outputId": "7a69623d-3d66-450b-f269-faf43a03e7a7"
      },
      "execution_count": null,
      "outputs": [
        {
          "output_type": "execute_result",
          "data": {
            "text/plain": [
              "maydoni    Qoraqalpogʻiston Respublikasi\n",
              "aholisi                Toshkent viloyati\n",
              "dtype: object"
            ]
          },
          "metadata": {},
          "execution_count": 19
        }
      ]
    },
    {
      "cell_type": "code",
      "source": [
        "df['maydoni'].argmax() # eng katta xududuning tartub raqamini ko'rsatadi\n"
      ],
      "metadata": {
        "colab": {
          "base_uri": "https://localhost:8080/"
        },
        "id": "qiBmGoW4CYw1",
        "outputId": "d81ab288-65ee-4132-e4da-17600d43bd09"
      },
      "execution_count": null,
      "outputs": [
        {
          "output_type": "execute_result",
          "data": {
            "text/plain": [
              "8"
            ]
          },
          "metadata": {},
          "execution_count": 24
        }
      ]
    },
    {
      "cell_type": "code",
      "source": [
        "df['aholisi'].argmin() # aholisi eng kam xududuning tartub raqamini ko'rsatadi"
      ],
      "metadata": {
        "colab": {
          "base_uri": "https://localhost:8080/"
        },
        "id": "J8iH3OJECt2m",
        "outputId": "eb86b4e9-9f1d-4ee6-8304-82df4f33b361"
      },
      "execution_count": null,
      "outputs": [
        {
          "output_type": "execute_result",
          "data": {
            "text/plain": [
              "10"
            ]
          },
          "metadata": {},
          "execution_count": 26
        }
      ]
    },
    {
      "cell_type": "code",
      "source": [
        "df['aholisi']"
      ],
      "metadata": {
        "colab": {
          "base_uri": "https://localhost:8080/"
        },
        "id": "i0q4mkwhDLrl",
        "outputId": "2c145b21-42dd-4f4c-c324-6d5dbad71122"
      },
      "execution_count": null,
      "outputs": [
        {
          "output_type": "execute_result",
          "data": {
            "text/plain": [
              "Boʻlinishi\n",
              "Andijon viloyati                 1899000.0\n",
              "Buxoro viloyati                  1384700.0\n",
              "Fargʻona viloyati                2597000.0\n",
              "Jizzax viloyati                   910500.0\n",
              "Xorazm viloyati                  1200000.0\n",
              "Namangan viloyati                1862000.0\n",
              "Navoiy viloyati                   767500.0\n",
              "Qashqadaryo viloyati             2029000.0\n",
              "Qoraqalpogʻiston Respublikasi    1200000.0\n",
              "Samarqand viloyati               2322000.0\n",
              "Sirdaryo viloyati                 648100.0\n",
              "Surxondaryo viloyati             1676000.0\n",
              "Toshkent viloyati                4450000.0\n",
              "Name: aholisi, dtype: float64"
            ]
          },
          "metadata": {},
          "execution_count": 27
        }
      ]
    },
    {
      "cell_type": "code",
      "source": [
        "df.iloc[10]"
      ],
      "metadata": {
        "colab": {
          "base_uri": "https://localhost:8080/"
        },
        "id": "D2b4bIDvDXBu",
        "outputId": "3751272e-bf0d-422f-80dc-c190e615acaf"
      },
      "execution_count": null,
      "outputs": [
        {
          "output_type": "execute_result",
          "data": {
            "text/plain": [
              "maydoni      5100.0\n",
              "aholisi    648100.0\n",
              "Name: Sirdaryo viloyati, dtype: float64"
            ]
          },
          "metadata": {},
          "execution_count": 28
        }
      ]
    },
    {
      "cell_type": "code",
      "source": [],
      "metadata": {
        "id": "WxHzTFqyDfLf"
      },
      "execution_count": null,
      "outputs": []
    }
  ]
}